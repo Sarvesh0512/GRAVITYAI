{
  "cells": [
    {
      "cell_type": "code",
      "execution_count": 4,
      "metadata": {
        "colab": {
          "base_uri": "https://localhost:8080/"
        },
        "id": "uG3uiRAoSW_p",
        "outputId": "e81ca7e4-615c-481a-c4f2-82d4941cef37"
      },
      "outputs": [
        {
          "name": "stderr",
          "output_type": "stream",
          "text": [
            "<ipython-input-4-f23640a8afbc>:36: FutureWarning: The behavior of DataFrame concatenation with empty or all-NA entries is deprecated. In a future version, this will no longer exclude empty or all-NA columns when determining the result dtypes. To retain the old behavior, exclude the relevant entries before the concat operation.\n",
            "  matches_df = pd.concat([matches_df, new_row], ignore_index=True)\n"
          ]
        }
      ],
      "source": [
        "import pandas as pd\n",
        "from sklearn.feature_extraction.text import TfidfVectorizer\n",
        "from sklearn.metrics.pairwise import cosine_similarity\n",
        "\n",
        "names_list_1 = pd.read_excel(\"/content/Names List 1.xlsx\")\n",
        "names_list_2 = pd.read_excel(\"/content/Names List 2.xlsx\")\n",
        "\n",
        "\n",
        "names_list_1['name_state'] = names_list_1['Institution Name'] + ' ' + names_list_1['STABBR']\n",
        "names_list_2['name_state'] = names_list_2['Institution Name'] + ' ' + names_list_2['State']\n",
        "\n",
        "\n",
        "vectorizer = TfidfVectorizer()\n",
        "tfidf_matrix_1 = vectorizer.fit_transform(names_list_1['name_state'])\n",
        "tfidf_matrix_2 = vectorizer.transform(names_list_2['name_state'])\n",
        "\n",
        "\n",
        "cosine_sim = cosine_similarity(tfidf_matrix_1, tfidf_matrix_2)\n",
        "similarity_df = pd.DataFrame(cosine_sim, index=names_list_1['name_state'], columns=names_list_2['name_state'])\n",
        "\n",
        "matches_df = pd.DataFrame(columns=['Names List 1', 'Names List 2', 'Similarity Score'])\n",
        "\n",
        "\n",
        "threshold = 0.5\n",
        "for i, row in similarity_df.iterrows():\n",
        "    best_match = row.idxmax()\n",
        "    best_score = row.max()\n",
        "    if best_score > threshold:\n",
        "        new_row = pd.DataFrame({\n",
        "            'Names List 1': [i],\n",
        "            'Names List 2': [best_match],\n",
        "            'Similarity Score': [best_score]\n",
        "        })\n",
        "        matches_df = pd.concat([matches_df, new_row], ignore_index=True)\n",
        "\n",
        "matches_df[['Institution Name 1', 'State 1']] = matches_df['Names List 1'].str.rsplit(' ', n=1, expand=True)\n",
        "matches_df[['Institution Name 2', 'State 2']] = matches_df['Names List 2'].str.rsplit(' ', n=1, expand=True)\n",
        "\n",
        "\n",
        "matches_df = matches_df.merge(names_list_1[['Institution Name', 'STABBR', 'ID', 'CITY']],\n",
        "                              left_on=['Institution Name 1', 'State 1'],\n",
        "                              right_on=['Institution Name', 'STABBR'],\n",
        "                              how='left')\n",
        "\n",
        "matches_df.drop(columns=['Institution Name', 'STABBR', 'Names List 1', 'Names List 2'], inplace=True)\n",
        "\n",
        "matches_df.to_excel(\"/content/Matched_Institutions.xlsx\", index=False)"
      ]
    }
  ],
  "metadata": {
    "colab": {
      "provenance": []
    },
    "kernelspec": {
      "display_name": "Python 3",
      "name": "python3"
    },
    "language_info": {
      "name": "python"
    }
  },
  "nbformat": 4,
  "nbformat_minor": 0
}
