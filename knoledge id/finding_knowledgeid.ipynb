{
 "cells": [
  {
   "cell_type": "code",
   "execution_count": 5,
   "metadata": {},
   "outputs": [
    {
     "name": "stdout",
     "output_type": "stream",
     "text": [
      "No Knowledge Graph ID found in the page source.\n"
     ]
    }
   ],
   "source": [
    "from selenium import webdriver\n",
    "from selenium.webdriver.common.keys import Keys\n",
    "from selenium.webdriver.chrome.service import Service\n",
    "from selenium.webdriver.common.by import By\n",
    "import time\n",
    "\n",
    "# Setup Chrome WebDriver\n",
    "service = Service(r\"C:\\Users\\sarve\\OneDrive\\Desktop\\WORK\\knoledge id\\chromedriver-win64\\chromedriver-win64\\chromedriver.exe\")  # Update with your actual chromedriver path\n",
    "driver = webdriver.Chrome(service=service)\n",
    "\n",
    "# Open Google\n",
    "driver.get(\"https://www.google.com\")\n",
    "\n",
    "# Find the search box and perform a search\n",
    "search_box = driver.find_element(By.NAME, \"q\")\n",
    "search_box.send_keys(\"grantham university\")\n",
    "search_box.send_keys(Keys.RETURN)\n",
    "\n",
    "# Allow some time for the page to load\n",
    "time.sleep(3)\n",
    "\n",
    "# Extract the page source to find the Knowledge Graph ID\n",
    "try:\n",
    "    # Get the page source\n",
    "    page_source = driver.page_source\n",
    "    \n",
    "    # Search for the Knowledge Graph ID in the source code\n",
    "    if \"/m/\" in page_source or \"/g/\" in page_source:\n",
    "        # Searching for \"/m/\" and \"/g/\" identifiers\n",
    "        start_index_m = page_source.find(\"/m/\")\n",
    "        start_index_g = page_source.find(\"/g/\")\n",
    "        \n",
    "        if start_index_m != -1:\n",
    "            end_index_m = page_source.find('\"', start_index_m)  # Finding the closing quote for the ID\n",
    "            kg_id_m = page_source[start_index_m:end_index_m]\n",
    "            print(f\"Knowledge Graph ID (using /m/): {kg_id_m}\")\n",
    "        \n",
    "        if start_index_g != -1:\n",
    "            end_index_g = page_source.find('\"', start_index_g)  # Finding the closing quote for the ID\n",
    "            kg_id_g = page_source[start_index_g:end_index_g]\n",
    "            print(f\"Knowledge Graph ID (using /g/): {kg_id_g}\")\n",
    "    else:\n",
    "        print(\"No Knowledge Graph ID found in the page source.\")\n",
    "except Exception as e:\n",
    "    print(\"Could not extract Knowledge Graph ID:\", e)\n",
    "\n",
    "# Close the browser\n",
    "driver.quit()\n"
   ]
  },
  {
   "cell_type": "code",
   "execution_count": 4,
   "metadata": {},
   "outputs": [
    {
     "name": "stdout",
     "output_type": "stream",
     "text": [
      "Knowledge Graph ID not found in the page source.\n"
     ]
    }
   ],
   "source": [
    "from selenium import webdriver\n",
    "from selenium.webdriver.common.keys import Keys\n",
    "from selenium.webdriver.chrome.service import Service\n",
    "from selenium.webdriver.common.by import By\n",
    "import time\n",
    "\n",
    "# Setup Chrome WebDriver\n",
    "service = Service(r\"C:\\Users\\sarve\\OneDrive\\Desktop\\WORK\\knoledge id\\chromedriver-win64\\chromedriver-win64\\chromedriver.exe\")  # Update with your actual chromedriver path\n",
    "driver = webdriver.Chrome(service=service)\n",
    "\n",
    "# Open Google\n",
    "driver.get(\"https://www.google.com\")\n",
    "\n",
    "# Find the search box and perform a search\n",
    "search_box = driver.find_element(By.NAME, \"q\")\n",
    "search_box.send_keys(\"grantham universityr\")\n",
    "search_box.send_keys(Keys.RETURN)\n",
    "\n",
    "# Allow some time for the page to load\n",
    "time.sleep(1)\n",
    "\n",
    "# Extract the page source to find the Knowledge Graph ID\n",
    "try:\n",
    "    # Get the page source\n",
    "    page_source = driver.page_source\n",
    "    \n",
    "    # Search for the Knowledge Graph ID in the source code\n",
    "    start_index = page_source.find(\"/m/\")\n",
    "    \n",
    "    if start_index != -1:\n",
    "        # Find the end of the ID (right before `&quot;`)\n",
    "        end_index = page_source.find(\"&quot;\", start_index)\n",
    "        \n",
    "        # Extract the Knowledge Graph ID\n",
    "        kg_id = page_source[start_index:end_index]\n",
    "        print(f\"Knowledge Graph ID: {kg_id}\")\n",
    "    else:\n",
    "        print(\"Knowledge Graph ID not found in the page source.\")\n",
    "except Exception as e:\n",
    "    print(\"Could not extract Knowledge Graph ID:\", e)\n",
    "\n",
    "# Close the browser\n",
    "driver.quit()\n"
   ]
  },
  {
   "cell_type": "code",
   "execution_count": 6,
   "metadata": {},
   "outputs": [
    {
     "name": "stdout",
     "output_type": "stream",
     "text": [
      "Knowledge Graph ID (using /m/): /m/0275p5m\n"
     ]
    }
   ],
   "source": [
    "from selenium import webdriver\n",
    "from selenium.webdriver.common.keys import Keys\n",
    "from selenium.webdriver.chrome.service import Service\n",
    "from selenium.webdriver.common.by import By\n",
    "import time\n",
    "\n",
    "# Setup Chrome WebDriver\n",
    "service = Service(r\"C:\\Users\\sarve\\OneDrive\\Desktop\\WORK\\knoledge id\\chromedriver-win64\\chromedriver-win64\\chromedriver.exe\")  # Update with your actual chromedriver path\n",
    "driver = webdriver.Chrome(service=service)\n",
    "\n",
    "# Open Google\n",
    "driver.get(\"https://www.google.com\")\n",
    "\n",
    "# Find the search box and perform a search\n",
    "search_box = driver.find_element(By.NAME, \"q\")\n",
    "search_box.send_keys(\"grantham university\")\n",
    "search_box.send_keys(Keys.RETURN)\n",
    "\n",
    "# Allow some time for the page to load\n",
    "time.sleep(3)\n",
    "\n",
    "# Extract the page source to find the Knowledge Graph ID\n",
    "try:\n",
    "    # Get the page source\n",
    "    page_source = driver.page_source\n",
    "\n",
    "    # Check for the presence of /m/ first\n",
    "    start_index_m = page_source.find(\"/m/\")\n",
    "    if start_index_m != -1:\n",
    "        # Find the end of the /m/ ID (right before &quot;)\n",
    "        end_index_m = page_source.find(\"&quot;\", start_index_m)\n",
    "        kg_id_m = page_source[start_index_m:end_index_m]\n",
    "        print(f\"Knowledge Graph ID (using /m/): {kg_id_m}\")\n",
    "    else:\n",
    "        # If /m/ is not found, check for /g/\n",
    "        start_index_g = page_source.find(\"/g/\")\n",
    "        if start_index_g != -1:\n",
    "            # Find the end of the /g/ ID (right before &quot;)\n",
    "            end_index_g = page_source.find(\"&quot;\", start_index_g)\n",
    "            kg_id_g = page_source[start_index_g:end_index_g]\n",
    "            print(f\"Knowledge Graph ID (using /g/): {kg_id_g}\")\n",
    "        else:\n",
    "            print(\"No Knowledge Graph ID found.\")\n",
    "except Exception as e:\n",
    "    print(\"Could not extract Knowledge Graph ID:\", e)\n",
    "\n",
    "# Close the browser\n",
    "driver.quit()\n"
   ]
  },
  {
   "cell_type": "code",
   "execution_count": null,
   "metadata": {},
   "outputs": [],
   "source": []
  },
  {
   "cell_type": "markdown",
   "metadata": {},
   "source": []
  },
  {
   "cell_type": "code",
   "execution_count": null,
   "metadata": {},
   "outputs": [],
   "source": []
  }
 ],
 "metadata": {
  "kernelspec": {
   "display_name": "Python 3",
   "language": "python",
   "name": "python3"
  },
  "language_info": {
   "codemirror_mode": {
    "name": "ipython",
    "version": 3
   },
   "file_extension": ".py",
   "mimetype": "text/x-python",
   "name": "python",
   "nbconvert_exporter": "python",
   "pygments_lexer": "ipython3",
   "version": "3.10.11"
  }
 },
 "nbformat": 4,
 "nbformat_minor": 2
}
