{
  "cells": [
    {
      "cell_type": "code",
      "execution_count": null,
      "metadata": {
        "colab": {
          "base_uri": "https://localhost:8080/"
        },
        "id": "fflNfRdXiTAj",
        "outputId": "ad760bdc-f9e8-4221-deb7-457e22799ef1"
      },
      "outputs": [
        {
          "name": "stdout",
          "output_type": "stream",
          "text": [
            "Collecting opencage\n",
            "  Downloading opencage-2.4.0-py3-none-any.whl.metadata (5.8 kB)\n",
            "Requirement already satisfied: Requests>=2.31.0 in /usr/local/lib/python3.10/dist-packages (from opencage) (2.31.0)\n",
            "Collecting backoff>=2.2.1 (from opencage)\n",
            "  Downloading backoff-2.2.1-py3-none-any.whl.metadata (14 kB)\n",
            "Requirement already satisfied: charset-normalizer<4,>=2 in /usr/local/lib/python3.10/dist-packages (from Requests>=2.31.0->opencage) (3.3.2)\n",
            "Requirement already satisfied: idna<4,>=2.5 in /usr/local/lib/python3.10/dist-packages (from Requests>=2.31.0->opencage) (3.7)\n",
            "Requirement already satisfied: urllib3<3,>=1.21.1 in /usr/local/lib/python3.10/dist-packages (from Requests>=2.31.0->opencage) (2.0.7)\n",
            "Requirement already satisfied: certifi>=2017.4.17 in /usr/local/lib/python3.10/dist-packages (from Requests>=2.31.0->opencage) (2024.7.4)\n",
            "Downloading opencage-2.4.0-py3-none-any.whl (16 kB)\n",
            "Downloading backoff-2.2.1-py3-none-any.whl (15 kB)\n",
            "Installing collected packages: backoff, opencage\n",
            "Successfully installed backoff-2.2.1 opencage-2.4.0\n"
          ]
        }
      ],
      "source": [
        "pip install opencage\n"
      ]
    },
    {
      "cell_type": "code",
      "execution_count": null,
      "metadata": {
        "id": "-1GPzdwDicM_"
      },
      "outputs": [],
      "source": [
        "import pandas as pd\n",
        "from opencage.geocoder import OpenCageGeocode\n",
        "import time"
      ]
    },
    {
      "cell_type": "code",
      "execution_count": null,
      "metadata": {
        "id": "PXVV7Mcwigot"
      },
      "outputs": [],
      "source": [
        "API_KEY = '353a72d5cf1841f892c5a012e0548fd2'\n",
        "geocoder = OpenCageGeocode(API_KEY)"
      ]
    },
    {
      "cell_type": "code",
      "execution_count": null,
      "metadata": {
        "id": "-WXSe72birJ_"
      },
      "outputs": [],
      "source": [
        "file_path = '/content/Sheet1.xlsx'  # This is the file created from the previous project\n",
        "sheet_name = 'Sheet1'  # Update if your sheet name is different\n",
        "df = pd.read_excel(file_path)\n",
        "\n",
        "# Define the column that contains the state abbreviations\n",
        "state_column = 'Institution Name'  # Replace with your actual column name if different\n"
      ]
    },
    {
      "cell_type": "code",
      "execution_count": null,
      "metadata": {
        "id": "i2CehUkSjFDv"
      },
      "outputs": [],
      "source": [
        "def get_lat_lng(state_abbreviation):\n",
        "    try:\n",
        "        query = state_abbreviation + \", USA\"\n",
        "        result = geocoder.geocode(query, countrycode='us')\n",
        "        if result and len(result):\n",
        "            location = result[0]['geometry']\n",
        "            return location['lat'], location['lng']\n",
        "        else:\n",
        "            return None, None\n",
        "    except Exception as e:\n",
        "        print(f\"Error fetching coordinates for {state_abbreviation}: {e}\")\n",
        "        return None, None\n",
        "\n",
        "# Apply the function to get latitude and longitude for each state\n",
        "df['Latitude'], df['Longitude'] = zip(*df[state_column].apply(get_lat_lng()))\n",
        "\n",
        "# Save the updated DataFrame back to an Excel file\n",
        "output_file_path = 'updated_with_lat_lng.xlsx'\n",
        "df.to_excel(output_file_path, index=False)"
      ]
    }
  ],
  "metadata": {
    "accelerator": "GPU",
    "colab": {
      "gpuType": "T4",
      "provenance": []
    },
    "kernelspec": {
      "display_name": "Python 3",
      "name": "python3"
    },
    "language_info": {
      "name": "python"
    }
  },
  "nbformat": 4,
  "nbformat_minor": 0
}
