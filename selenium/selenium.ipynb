{
 "cells": [
  {
   "cell_type": "code",
   "execution_count": 2,
   "metadata": {},
   "outputs": [
    {
     "name": "stdout",
     "output_type": "stream",
     "text": [
      "Requirement already satisfied: selenium in c:\\users\\sarve\\appdata\\local\\packages\\pythonsoftwarefoundation.python.3.10_qbz5n2kfra8p0\\localcache\\local-packages\\python310\\site-packages (4.0.0b4)\n",
      "Requirement already satisfied: urllib3~=1.26 in c:\\users\\sarve\\appdata\\local\\packages\\pythonsoftwarefoundation.python.3.10_qbz5n2kfra8p0\\localcache\\local-packages\\python310\\site-packages (from urllib3[secure]~=1.26->selenium) (1.26.19)\n",
      "Requirement already satisfied: trio~=0.17 in c:\\users\\sarve\\appdata\\local\\packages\\pythonsoftwarefoundation.python.3.10_qbz5n2kfra8p0\\localcache\\local-packages\\python310\\site-packages (from selenium) (0.26.2)\n",
      "Requirement already satisfied: trio-websocket~=0.9 in c:\\users\\sarve\\appdata\\local\\packages\\pythonsoftwarefoundation.python.3.10_qbz5n2kfra8p0\\localcache\\local-packages\\python310\\site-packages (from selenium) (0.11.1)\n",
      "Requirement already satisfied: attrs>=23.2.0 in c:\\users\\sarve\\appdata\\local\\packages\\pythonsoftwarefoundation.python.3.10_qbz5n2kfra8p0\\localcache\\local-packages\\python310\\site-packages (from trio~=0.17->selenium) (23.2.0)\n",
      "Requirement already satisfied: sortedcontainers in c:\\users\\sarve\\appdata\\local\\packages\\pythonsoftwarefoundation.python.3.10_qbz5n2kfra8p0\\localcache\\local-packages\\python310\\site-packages (from trio~=0.17->selenium) (2.4.0)\n",
      "Requirement already satisfied: idna in c:\\users\\sarve\\appdata\\local\\packages\\pythonsoftwarefoundation.python.3.10_qbz5n2kfra8p0\\localcache\\local-packages\\python310\\site-packages (from trio~=0.17->selenium) (3.7)\n",
      "Requirement already satisfied: outcome in c:\\users\\sarve\\appdata\\local\\packages\\pythonsoftwarefoundation.python.3.10_qbz5n2kfra8p0\\localcache\\local-packages\\python310\\site-packages (from trio~=0.17->selenium) (1.3.0.post0)\n",
      "Requirement already satisfied: sniffio>=1.3.0 in c:\\users\\sarve\\appdata\\local\\packages\\pythonsoftwarefoundation.python.3.10_qbz5n2kfra8p0\\localcache\\local-packages\\python310\\site-packages (from trio~=0.17->selenium) (1.3.1)\n",
      "Requirement already satisfied: cffi>=1.14 in c:\\users\\sarve\\appdata\\local\\packages\\pythonsoftwarefoundation.python.3.10_qbz5n2kfra8p0\\localcache\\local-packages\\python310\\site-packages (from trio~=0.17->selenium) (1.16.0)\n",
      "Requirement already satisfied: exceptiongroup in c:\\users\\sarve\\appdata\\local\\packages\\pythonsoftwarefoundation.python.3.10_qbz5n2kfra8p0\\localcache\\local-packages\\python310\\site-packages (from trio~=0.17->selenium) (1.2.1)\n",
      "Requirement already satisfied: wsproto>=0.14 in c:\\users\\sarve\\appdata\\local\\packages\\pythonsoftwarefoundation.python.3.10_qbz5n2kfra8p0\\localcache\\local-packages\\python310\\site-packages (from trio-websocket~=0.9->selenium) (1.2.0)\n",
      "Requirement already satisfied: pyOpenSSL>=0.14 in c:\\users\\sarve\\appdata\\local\\packages\\pythonsoftwarefoundation.python.3.10_qbz5n2kfra8p0\\localcache\\local-packages\\python310\\site-packages (from urllib3[secure]~=1.26->selenium) (24.2.1)\n",
      "Requirement already satisfied: cryptography>=1.3.4 in c:\\users\\sarve\\appdata\\local\\packages\\pythonsoftwarefoundation.python.3.10_qbz5n2kfra8p0\\localcache\\local-packages\\python310\\site-packages (from urllib3[secure]~=1.26->selenium) (43.0.0)\n",
      "Requirement already satisfied: certifi in c:\\users\\sarve\\appdata\\local\\packages\\pythonsoftwarefoundation.python.3.10_qbz5n2kfra8p0\\localcache\\local-packages\\python310\\site-packages (from urllib3[secure]~=1.26->selenium) (2024.2.2)\n",
      "Requirement already satisfied: urllib3-secure-extra in c:\\users\\sarve\\appdata\\local\\packages\\pythonsoftwarefoundation.python.3.10_qbz5n2kfra8p0\\localcache\\local-packages\\python310\\site-packages (from urllib3[secure]~=1.26->selenium) (0.1.0)\n",
      "Requirement already satisfied: pycparser in c:\\users\\sarve\\appdata\\local\\packages\\pythonsoftwarefoundation.python.3.10_qbz5n2kfra8p0\\localcache\\local-packages\\python310\\site-packages (from cffi>=1.14->trio~=0.17->selenium) (2.22)\n",
      "Requirement already satisfied: h11<1,>=0.9.0 in c:\\users\\sarve\\appdata\\local\\packages\\pythonsoftwarefoundation.python.3.10_qbz5n2kfra8p0\\localcache\\local-packages\\python310\\site-packages (from wsproto>=0.14->trio-websocket~=0.9->selenium) (0.14.0)\n",
      "Note: you may need to restart the kernel to use updated packages.\n"
     ]
    }
   ],
   "source": [
    "pip install selenium\n"
   ]
  },
  {
   "cell_type": "code",
   "execution_count": 3,
   "metadata": {},
   "outputs": [
    {
     "name": "stdout",
     "output_type": "stream",
     "text": [
      "Requirement already satisfied: webdriver-manager in c:\\users\\sarve\\appdata\\local\\packages\\pythonsoftwarefoundation.python.3.10_qbz5n2kfra8p0\\localcache\\local-packages\\python310\\site-packages (4.0.2)\n",
      "Requirement already satisfied: requests in c:\\users\\sarve\\appdata\\local\\packages\\pythonsoftwarefoundation.python.3.10_qbz5n2kfra8p0\\localcache\\local-packages\\python310\\site-packages (from webdriver-manager) (2.31.0)\n",
      "Requirement already satisfied: python-dotenv in c:\\users\\sarve\\appdata\\local\\packages\\pythonsoftwarefoundation.python.3.10_qbz5n2kfra8p0\\localcache\\local-packages\\python310\\site-packages (from webdriver-manager) (1.0.1)\n",
      "Requirement already satisfied: packaging in c:\\users\\sarve\\appdata\\local\\packages\\pythonsoftwarefoundation.python.3.10_qbz5n2kfra8p0\\localcache\\local-packages\\python310\\site-packages (from webdriver-manager) (24.0)\n",
      "Requirement already satisfied: charset-normalizer<4,>=2 in c:\\users\\sarve\\appdata\\local\\packages\\pythonsoftwarefoundation.python.3.10_qbz5n2kfra8p0\\localcache\\local-packages\\python310\\site-packages (from requests->webdriver-manager) (3.3.2)\n",
      "Requirement already satisfied: idna<4,>=2.5 in c:\\users\\sarve\\appdata\\local\\packages\\pythonsoftwarefoundation.python.3.10_qbz5n2kfra8p0\\localcache\\local-packages\\python310\\site-packages (from requests->webdriver-manager) (3.7)\n",
      "Requirement already satisfied: urllib3<3,>=1.21.1 in c:\\users\\sarve\\appdata\\local\\packages\\pythonsoftwarefoundation.python.3.10_qbz5n2kfra8p0\\localcache\\local-packages\\python310\\site-packages (from requests->webdriver-manager) (1.26.19)\n",
      "Requirement already satisfied: certifi>=2017.4.17 in c:\\users\\sarve\\appdata\\local\\packages\\pythonsoftwarefoundation.python.3.10_qbz5n2kfra8p0\\localcache\\local-packages\\python310\\site-packages (from requests->webdriver-manager) (2024.2.2)\n",
      "Note: you may need to restart the kernel to use updated packages.\n"
     ]
    }
   ],
   "source": [
    "pip install webdriver-manager"
   ]
  },
  {
   "cell_type": "code",
   "execution_count": 4,
   "metadata": {},
   "outputs": [],
   "source": [
    "import logging\n",
    "logger = logging.getLogger('selenium')"
   ]
  },
  {
   "cell_type": "code",
   "execution_count": 5,
   "metadata": {},
   "outputs": [],
   "source": [
    "logger.setLevel(logging.DEBUG)"
   ]
  },
  {
   "cell_type": "code",
   "execution_count": 6,
   "metadata": {},
   "outputs": [],
   "source": [
    "logging.basicConfig(level=logging.WARN)\n",
    "\n"
   ]
  },
  {
   "cell_type": "code",
   "execution_count": 7,
   "metadata": {},
   "outputs": [],
   "source": [
    "import logging\n",
    "\n",
    "\n",
    "def test_logging(log_path):\n",
    "    logger = logging.getLogger('selenium')\n",
    "\n",
    "    logger.setLevel(logging.DEBUG)\n",
    "\n",
    "    handler = logging.FileHandler(log_path)\n",
    "    logger.addHandler(handler)\n",
    "\n",
    "    logging.getLogger('selenium.webdriver.remote').setLevel(logging.WARN)\n",
    "    logging.getLogger('selenium.webdriver.common').setLevel(logging.DEBUG)\n",
    "\n",
    "    logger.info(\"this is useful information\")\n",
    "    logger.warning(\"this is a warning\")\n",
    "    logger.debug(\"this is detailed debug information\")\n",
    "\n",
    "    with open(log_path, 'r') as fp:\n",
    "        assert len(fp.readlines()) == 3"
   ]
  },
  {
   "cell_type": "code",
   "execution_count": 8,
   "metadata": {},
   "outputs": [
    {
     "name": "stdout",
     "output_type": "stream",
     "text": [
      "ChromeDriver Path: c:\\Users\\sarve\\OneDrive\\Desktop\\WORK\\selenium\\drivers\\chromedriver\n"
     ]
    }
   ],
   "source": [
    "import os\n",
    "\n",
    "# Assuming ChromeDriver is in the 'drivers' folder within your project directory\n",
    "driver_directory = os.path.join(os.getcwd(), 'drivers')\n",
    "chrome_driver_path = os.path.join(driver_directory, 'chromedriver')  # Adjust if on Windows\n",
    "\n",
    "print(f\"ChromeDriver Path: {chrome_driver_path}\")\n"
   ]
  },
  {
   "cell_type": "code",
   "execution_count": 10,
   "metadata": {},
   "outputs": [],
   "source": [
    "import os\n",
    "\n",
    "os.environ['WDM_SSL_VERIFY'] = '0'"
   ]
  },
  {
   "cell_type": "code",
   "execution_count": 11,
   "metadata": {},
   "outputs": [],
   "source": [
    "import os\n",
    "\n",
    "os.environ['GH_TOKEN'] = \"asdasdasdasd\""
   ]
  },
  {
   "cell_type": "code",
   "execution_count": 12,
   "metadata": {},
   "outputs": [],
   "source": [
    "import logging\n",
    "import os\n",
    "\n",
    "os.environ['WDM_LOG'] = str(logging.NOTSET)"
   ]
  },
  {
   "cell_type": "code",
   "execution_count": 13,
   "metadata": {},
   "outputs": [],
   "source": [
    "import os\n",
    "\n",
    "os.environ['WDM_LOCAL'] = '1'"
   ]
  },
  {
   "cell_type": "code",
   "execution_count": 16,
   "metadata": {},
   "outputs": [],
   "source": [
    "from selenium.webdriver.common.keys import Keys"
   ]
  },
  {
   "cell_type": "markdown",
   "metadata": {},
   "source": []
  },
  {
   "cell_type": "code",
   "execution_count": 18,
   "metadata": {},
   "outputs": [
    {
     "name": "stderr",
     "output_type": "stream",
     "text": [
      "DEBUG:selenium.webdriver.remote.remote_connection:POST http://localhost:63772/session {\"capabilities\": {\"firstMatch\": [{}], \"alwaysMatch\": {\"browserName\": \"chrome\", \"platformName\": \"any\", \"pageLoadStrategy\": \"normal\", \"goog:chromeOptions\": {\"extensions\": [], \"args\": []}}}, \"desiredCapabilities\": {\"browserName\": \"chrome\", \"version\": \"\", \"platform\": \"ANY\", \"pageLoadStrategy\": \"normal\", \"goog:chromeOptions\": {\"extensions\": [], \"args\": []}}}\n",
      "DEBUG:selenium.webdriver.remote.remote_connection:Finished Request\n",
      "DEBUG:selenium.webdriver.remote.remote_connection:POST http://localhost:63772/session/91431f9f7eecee6f3bb3556d3f268824/url {\"url\": \"https://www.google.com/maps\"}\n",
      "DEBUG:selenium.webdriver.remote.remote_connection:Finished Request\n",
      "DEBUG:selenium.webdriver.remote.remote_connection:POST http://localhost:63772/session/91431f9f7eecee6f3bb3556d3f268824/element {\"using\": \"css selector\", \"value\": \"[name=\\\"q\\\"]\"}\n",
      "DEBUG:selenium.webdriver.remote.remote_connection:Finished Request\n",
      "DEBUG:selenium.webdriver.remote.remote_connection:POST http://localhost:63772/session/91431f9f7eecee6f3bb3556d3f268824/element/f.EADBDCD83892A1C78D45F0FD790D1EA1.d.1CDEB05AE87BE36EFC91FE5807C7306E.e.103/value {\"text\": \"chennai\", \"value\": [\"c\", \"h\", \"e\", \"n\", \"n\", \"a\", \"i\"], \"id\": \"f.EADBDCD83892A1C78D45F0FD790D1EA1.d.1CDEB05AE87BE36EFC91FE5807C7306E.e.103\"}\n",
      "DEBUG:selenium.webdriver.remote.remote_connection:Finished Request\n",
      "DEBUG:selenium.webdriver.remote.remote_connection:POST http://localhost:63772/session/91431f9f7eecee6f3bb3556d3f268824/element/f.EADBDCD83892A1C78D45F0FD790D1EA1.d.1CDEB05AE87BE36EFC91FE5807C7306E.e.103/value {\"text\": \"\\ue006\", \"value\": [\"\\ue006\"], \"id\": \"f.EADBDCD83892A1C78D45F0FD790D1EA1.d.1CDEB05AE87BE36EFC91FE5807C7306E.e.103\"}\n",
      "DEBUG:selenium.webdriver.remote.remote_connection:Finished Request\n",
      "DEBUG:selenium.webdriver.remote.remote_connection:GET http://localhost:63772/session/91431f9f7eecee6f3bb3556d3f268824/url {}\n",
      "DEBUG:selenium.webdriver.remote.remote_connection:Finished Request\n",
      "DEBUG:selenium.webdriver.remote.remote_connection:DELETE http://localhost:63772/session/91431f9f7eecee6f3bb3556d3f268824 {}\n",
      "DEBUG:selenium.webdriver.remote.remote_connection:Finished Request\n"
     ]
    },
    {
     "name": "stdout",
     "output_type": "stream",
     "text": [
      "Latitude: 13.0479859, Longitude: 79.8793361\n"
     ]
    }
   ],
   "source": [
    "import logging\n",
    "from selenium import webdriver\n",
    "from selenium.webdriver.chrome.service import Service\n",
    "from selenium.webdriver.common.keys import Keys\n",
    "import time\n",
    "\n",
    "# Set up logging configuration\n",
    "logging.basicConfig(level=logging.DEBUG, filename=\"selenium_error.log\",\n",
    "                    format=\"%(asctime)s - %(levelname)s - %(message)s\")\n",
    "\n",
    "# Path to your chromedriver\n",
    "chrome_driver_path = \"C:/Users/sarve/OneDrive/Desktop/WORK/selenium/chromedriver-win64/chromedriver-win64/chromedriver.exe\"\n",
    "\n",
    "# Set up the Chrome driver using the Service class\n",
    "service = Service(chrome_driver_path)\n",
    "driver = webdriver.Chrome(service=service)\n",
    "\n",
    "def get_lat_lng(address):\n",
    "    try:\n",
    "        # Open Google Maps\n",
    "        driver.get('https://www.google.com/maps')\n",
    "\n",
    "        # Find the search box using its name attribute value\n",
    "        search_box = driver.find_element(\"name\", 'q')\n",
    "\n",
    "        # Send the address to the search box\n",
    "        search_box.send_keys(address)\n",
    "\n",
    "        # Simulate hitting the Enter key\n",
    "        search_box.send_keys(Keys.RETURN)\n",
    "\n",
    "        # Allow time for the results to load\n",
    "        time.sleep(5)\n",
    "\n",
    "        # Extract the URL of the current page\n",
    "        url = driver.current_url\n",
    "\n",
    "        # The coordinates are usually in the URL\n",
    "        if '@' in url:\n",
    "            coords_part = url.split('@')[1].split(',')[0:2]\n",
    "            lat = coords_part[0]\n",
    "            lng = coords_part[1]\n",
    "            return lat, lng\n",
    "        else:\n",
    "            return None, None\n",
    "    except Exception as e:\n",
    "        logging.error(f\"Error fetching coordinates for {address}: {e}\")\n",
    "        return None, None\n",
    "\n",
    "# Example usage\n",
    "address = \"chennai\"\n",
    "latitude, longitude = get_lat_lng(address)\n",
    "print(f\"Latitude: {latitude}, Longitude: {longitude}\")\n",
    "\n",
    "# Close the driver\n",
    "driver.quit()\n",
    "\n"
   ]
  }
 ],
 "metadata": {
  "kernelspec": {
   "display_name": "Python 3",
   "language": "python",
   "name": "python3"
  },
  "language_info": {
   "codemirror_mode": {
    "name": "ipython",
    "version": 3
   },
   "file_extension": ".py",
   "mimetype": "text/x-python",
   "name": "python",
   "nbconvert_exporter": "python",
   "pygments_lexer": "ipython3",
   "version": "3.10.11"
  }
 },
 "nbformat": 4,
 "nbformat_minor": 2
}
