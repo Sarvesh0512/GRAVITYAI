{
 "cells": [
  {
   "cell_type": "code",
   "execution_count": null,
   "metadata": {},
   "outputs": [],
   "source": [
    "import pandas as pd\n",
    "\n",
    "# Function to segregate institution, place, and program\n",
    "def segregate_name(name):\n",
    "    # Define keywords to identify the program part (heuristic approach)\n",
    "    program_keywords = ['School', 'Sch', 'Sciences', 'Health', 'Management', 'Mgmt', 'Sci', 'CSDCAS', 'OTCAS', 'CASPA', 'PTCAS']\n",
    "    place_keywords = ['Arizona', 'California', 'Texas', 'New York', 'Florida', 'Ohio', 'Washington'] # A few state examples\n",
    "    \n",
    "    # Split the name by spaces\n",
    "    parts = name.split()\n",
    "    \n",
    "    # Extract institution name (assumed to be the part before place or program keywords)\n",
    "    institution_name = []\n",
    "    place = []\n",
    "    program = []\n",
    "\n",
    "    # Flag variables to track when to switch to place or program extraction\n",
    "    found_place = False\n",
    "    found_program = False\n",
    "    \n",
    "    for part in parts:\n",
    "        if any(keyword.lower() in part.lower() for keyword in place_keywords) and not found_place:\n",
    "            found_place = True\n",
    "            place.append(part)\n",
    "        elif any(keyword.lower() in part.lower() for keyword in program_keywords) and found_place:\n",
    "            found_program = True\n",
    "            program.append(part)\n",
    "        elif found_program:\n",
    "            program.append(part)\n",
    "        else:\n",
    "            institution_name.append(part)\n",
    "\n",
    "    return ' '.join(institution_name), ' '.join(place), ' '.join(program)\n",
    "\n",
    "# Load the CSV file\n",
    "file_path = 'path_to_your_file.csv'\n",
    "data = pd.read_csv(file_path)\n",
    "\n",
    "# Apply the segregation function to the 'NAME' column\n",
    "data[['Institution Name', 'Place', 'Program']] = data['NAME'].apply(lambda x: pd.Series(segregate_name(x)))\n",
    "\n",
    "# Save the segregated data into a new CSV file\n",
    "output_file_path = 'segregated_institution_data.csv'\n",
    "data[['NAME', 'Institution Name', 'Place', 'Program']].to_csv(output_file_path, index=False)\n"
   ]
  }
 ],
 "metadata": {
  "language_info": {
   "name": "python"
  }
 },
 "nbformat": 4,
 "nbformat_minor": 2
}
