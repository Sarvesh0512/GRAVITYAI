{
 "cells": [
  {
   "cell_type": "code",
   "execution_count": 9,
   "metadata": {},
   "outputs": [],
   "source": [
    "import spacy\n",
    "from geopy.geocoders import Nominatim\n",
    "import pandas as pd"
   ]
  },
  {
   "cell_type": "code",
   "execution_count": 10,
   "metadata": {},
   "outputs": [
    {
     "name": "stdout",
     "output_type": "stream",
     "text": [
      "Requirement already satisfied: geopy in c:\\users\\sarve\\appdata\\local\\packages\\pythonsoftwarefoundation.python.3.10_qbz5n2kfra8p0\\localcache\\local-packages\\python310\\site-packages (2.4.1)\n",
      "Requirement already satisfied: geographiclib<3,>=1.52 in c:\\users\\sarve\\appdata\\local\\packages\\pythonsoftwarefoundation.python.3.10_qbz5n2kfra8p0\\localcache\\local-packages\\python310\\site-packages (from geopy) (2.0)\n",
      "Note: you may need to restart the kernel to use updated packages.\n"
     ]
    }
   ],
   "source": [
    "pip install geopy"
   ]
  },
  {
   "cell_type": "code",
   "execution_count": 11,
   "metadata": {},
   "outputs": [],
   "source": [
    "# Load the spaCy pre-trained model for NER\n",
    "nlp = spacy.load(\"en_core_web_sm\")"
   ]
  },
  {
   "cell_type": "code",
   "execution_count": 16,
   "metadata": {},
   "outputs": [
    {
     "name": "stdout",
     "output_type": "stream",
     "text": [
      "Institution, Program, and Place have been extracted and saved to a new CSV file.\n"
     ]
    }
   ],
   "source": [
    "\n",
    "\n",
    "# Function to extract institution, program, and place with custom logic\n",
    "def extract_info(text):\n",
    "    doc = nlp(text)\n",
    "    institution = None\n",
    "    place = None\n",
    "    program = None\n",
    "\n",
    "    # Extract named entities using spaCy\n",
    "    entities = {ent.label_: ent.text for ent in doc.ents}\n",
    "    \n",
    "    # Handle institution and place using spaCy's NER\n",
    "    institution = entities.get(\"ORG\", None)  # ORG -> Institution (like A T Still University)\n",
    "    place = entities.get(\"GPE\", None)  # GPE -> Place (like Arizona)\n",
    "    \n",
    "    # Extract the program name by removing institution and place from the text\n",
    "    program = text\n",
    "    if institution:\n",
    "        program = program.replace(institution, \"\").strip(\"  \")\n",
    "    if place:\n",
    "        program = program.replace(place, \"\").strip(\"  \")\n",
    "    \n",
    "    # After removing institution and place, whatever remains is likely the program\n",
    "    return {\n",
    "        \"Institution\": institution,\n",
    "        \"Program\": program,\n",
    "        \"Place\": place\n",
    "    }\n",
    "\n",
    "# Load the CSV file\n",
    "input_csv = 'unmapped3.csv'  # Path to your CSV file\n",
    "df = pd.read_csv(input_csv)\n",
    "\n",
    "# Process each row and extract the information\n",
    "extracted_data = []\n",
    "for index, row in df.iterrows():\n",
    "    text = row['NAME']  # The column name from your CSV\n",
    "    extracted_info = extract_info(text)\n",
    "    extracted_data.append(extracted_info)\n",
    "\n",
    "# Create a DataFrame for the extracted data\n",
    "extracted_df = pd.DataFrame(extracted_data)\n",
    "\n",
    "# Combine the extracted data with the original dataframe\n",
    "output_df = pd.concat([df, extracted_df], axis=1)\n",
    "\n",
    "# Save the result to a new CSV file\n",
    "output_csv = 'output_hyknk.csv'  # Path to save the result\n",
    "output_df.to_csv(output_csv, index=False)\n",
    "\n",
    "print(\"Institution, Program, and Place have been extracted and saved to a new CSV file.\")\n",
    "\n"
   ]
  }
 ],
 "metadata": {
  "kernelspec": {
   "display_name": "Python 3",
   "language": "python",
   "name": "python3"
  },
  "language_info": {
   "codemirror_mode": {
    "name": "ipython",
    "version": 3
   },
   "file_extension": ".py",
   "mimetype": "text/x-python",
   "name": "python",
   "nbconvert_exporter": "python",
   "pygments_lexer": "ipython3",
   "version": "3.10.11"
  }
 },
 "nbformat": 4,
 "nbformat_minor": 2
}
