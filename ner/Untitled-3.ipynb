{
 "cells": [
  {
   "cell_type": "code",
   "execution_count": 1,
   "metadata": {},
   "outputs": [
    {
     "name": "stdout",
     "output_type": "stream",
     "text": [
      "Data has been successfully segregated and saved to segregated_institution_data_with_ner.csv\n"
     ]
    }
   ],
   "source": [
    "import spacy\n",
    "import pandas as pd\n",
    "\n",
    "# Load the SpaCy model for English\n",
    "nlp = spacy.load('en_core_web_sm')\n",
    "\n",
    "# Function to segregate institution, place, and program using NER\n",
    "def segregate_with_ner(name):\n",
    "    # Process the name string with SpaCy's NER\n",
    "    doc = nlp(name)\n",
    "    \n",
    "    institution_name = []\n",
    "    place = []\n",
    "    program = []\n",
    "\n",
    "    # Loop through identified entities\n",
    "    for ent in doc.ents:\n",
    "        if ent.label_ == 'ORG':  # Organization (Institution Name)\n",
    "            institution_name.append(ent.text)\n",
    "        elif ent.label_ == 'GPE':  # Geopolitical Entity (Place)\n",
    "            place.append(ent.text)\n",
    "\n",
    "    # Anything not captured by ORG or GPE could be a program\n",
    "    # We'll treat the rest of the text as part of the 'Program'\n",
    "    remaining_tokens = [token.text for token in doc if not token.ent_type_]\n",
    "    program = ' '.join(remaining_tokens)\n",
    "    \n",
    "    return ' '.join(institution_name), ' '.join(place), program\n",
    "\n",
    "# Load your dataset\n",
    "file_path = 'unmapped3.csv'  # Replace with the actual path to your CSV file\n",
    "data = pd.read_csv(file_path)\n",
    "\n",
    "# Apply the NER-based segregation function\n",
    "data[['Institution Name', 'Place', 'Program']] = data['NAME'].apply(lambda x: pd.Series(segregate_with_ner(x)))\n",
    "\n",
    "# Save the segregated data into a new CSV file\n",
    "output_file_path = 'segregated_institution_data_with_ner.csv'\n",
    "data[['NAME', 'Institution Name', 'Place', 'Program']].to_csv(output_file_path, index=False)\n",
    "\n",
    "print(f\"Data has been successfully segregated and saved to {output_file_path}\")\n"
   ]
  }
 ],
 "metadata": {
  "kernelspec": {
   "display_name": "Python 3",
   "language": "python",
   "name": "python3"
  },
  "language_info": {
   "codemirror_mode": {
    "name": "ipython",
    "version": 3
   },
   "file_extension": ".py",
   "mimetype": "text/x-python",
   "name": "python",
   "nbconvert_exporter": "python",
   "pygments_lexer": "ipython3",
   "version": "3.10.11"
  }
 },
 "nbformat": 4,
 "nbformat_minor": 2
}
